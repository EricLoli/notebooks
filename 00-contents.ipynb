{
 "cells": [
  {
   "cell_type": "markdown",
   "metadata": {
    "colab_type": "text",
    "id": "89c5-BpMY8y2"
   },
   "source": [
    "# FPRO: Programming Fundamentals (with Python)\n",
    "\n",
    "> The Unit aim at giving the student the ability to create algorithms, and to use a programming language to implement, test, and debug algorithms to solve simple problems.\n"
   ]
  },
  {
   "cell_type": "markdown",
   "metadata": {
    "colab_type": "text",
    "id": "hHIBASQewHi2"
   },
   "source": [
    "## Introduction\n",
    "\n",
    "Here you find:\n",
    "- A collection of Jupyter Notebooks that help you learn basic principles of programming and data structures, and ultimately to embrace the **Computational Thinking**\n",
    "- The contents are based on:\n",
    "  - the open-source book: http://openbookproject.net/thinkcs/python/english3e/index.html\n",
    "  - one interactive version of the book: https://runestone.academy/runestone/books/published/thinkcspy/index.html\n",
    "\n",
    "For more information, go to FPRO's landing page at: https://fpro.fe.up.pt"
   ]
  },
  {
   "cell_type": "markdown",
   "metadata": {
    "colab_type": "text",
    "id": "0TTqvXJAv67q"
   },
   "source": [
    "## Table of Contents\n",
    "\n",
    "- [00: Preface](00-preface.ipynb)\n",
    "- [01: Introduction](01-introduction.ipynb)\n",
    "- 02: Variables, expressions and statements\n",
    "\n",
    "> 'To be continued...'\n",
    "\n",
    "- 03: Program flow and conditionals\n",
    "- 04: Iteration\n",
    "- 05: Functions\n",
    "- 06: Fruitful functions\n",
    "- 07: Strings\n",
    "- 08: Tuples\n",
    "- 09: Lists\n",
    "- 10: Work with lists\n",
    "- 11: Dictionaries\n",
    "- 12: Sets\n",
    "- 13: Recursion\n",
    "- 14: Recursion vs. Iteration\n",
    "- 15: Functional Programming with collections\n",
    "- 16: Comprehensions\n",
    "- 17: Higher-order functions\n",
    "- 18: Effect-free programming style\n",
    "- 19: List algorithms\n",
    "- 20: Analysis of algorithms\n",
    "- 21: Modules\n",
    "- 22: Programs\n",
    "- 23: Files\n",
    "- 24: Exceptions\n",
    "- 25: Python packages\n",
    "- 26: Debugging and testing"
   ]
  },
  {
   "cell_type": "markdown",
   "metadata": {
    "colab_type": "text",
    "id": "HXEmxEfgv_hY"
   },
   "source": [
    "## Finale\n",
    "\n",
    "- Whenever deemed necessary, students are encouraged to go to the \"Clinic\", supervised by student assistants, to get help; see the [Attendance hours](https://web.fe.up.pt/~jlopes/doku.php/teach/fpro/clinic).\n",
    "\n",
    "- ... and [always look on the bright side of life](https://www.youtube.com/watch?v=-ECUtkv2qV8) and [always... Sing Along](https://www.youtube.com/watch?v=JrdEMERq8MA)\n"
   ]
  },
  {
   "cell_type": "code",
   "execution_count": 0,
   "metadata": {
    "colab": {},
    "colab_type": "code",
    "id": "fKOcINUN5Ejo"
   },
   "outputs": [],
   "source": [
    "from IPython.display import YouTubeVideo\n",
    "YouTubeVideo('JrdEMERq8MA')"
   ]
  },
  {
   "cell_type": "markdown",
   "metadata": {},
   "source": [
    "\n",
    "-- JCL,  Tue Sep 16 12:18:45 2020"
   ]
  }
 ],
 "metadata": {
  "colab": {
   "collapsed_sections": [],
   "name": "00-contents.ipynb",
   "provenance": [],
   "toc_visible": true
  },
  "kernelspec": {
   "display_name": "Python 3",
   "language": "python",
   "name": "python3"
  },
  "language_info": {
   "codemirror_mode": {
    "name": "ipython",
    "version": 3
   },
   "file_extension": ".py",
   "mimetype": "text/x-python",
   "name": "python",
   "nbconvert_exporter": "python",
   "pygments_lexer": "ipython3",
   "version": "3.8.2"
  }
 },
 "nbformat": 4,
 "nbformat_minor": 1
}
