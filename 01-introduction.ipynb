{
 "cells": [
  {
   "cell_type": "markdown",
   "metadata": {
    "colab_type": "text",
    "id": "GzSCPtLAiSVL",
    "slideshow": {
     "slide_type": "slide"
    }
   },
   "source": [
    "# Introduction & The way of the program\n",
    "\n",
    "## 01. Programming Fundamentals\n",
    "\n",
    "### MIEIC/2020-21\n",
    "\n",
    "#### João Correia Lopes\n",
    "\n",
    "FEUP/DEI and INESC TEC"
   ]
  },
  {
   "cell_type": "markdown",
   "metadata": {
    "colab_type": "text",
    "id": "w7857I20jvwB",
    "slideshow": {
     "slide_type": "subslide"
    }
   },
   "source": [
    "## Goals\n",
    "\n",
    "\n",
    "By the end of this class, the student should be able to:\n",
    "\n",
    "- Describe the goals, methods and assessment of the Unit \n",
    "- Describe introductory concepts on Problem solving, Algorithms and Programming Languages \n",
    "- Describe the concepts of program, errors and debugging"
   ]
  },
  {
   "cell_type": "markdown",
   "metadata": {
    "colab_type": "text",
    "id": "LcIbekB4uK5-",
    "slideshow": {
     "slide_type": "subslide"
    }
   },
   "source": [
    "## Bibliography\n",
    "\n",
    "* J. Correia Lopes, *Description of Course Unit*, September 2020, available at content Wiki \n",
    "[EN](https://web.fe.up.pt/~jlopes/doku.php/teach/fpro/sheet) and\n",
    "[PT](https://web.fe.up.pt/~jlopes/doku.php/teach/fpro/ficha)\n",
    "\n",
    "* Peter Wentworth, Jeffrey Elkner, Allen B. Downey, and Chris Meyers, *How to Think Like a Computer Scientist — Learning with Python 3* (Chapter 1)\n",
    "[[PDF April 2020](https://media.readthedocs.org/pdf/howtothink/latest/howtothink.pdf)] \n",
    "[[HTML](http://openbookproject.net/thinkcs/python/english3e/)]\n",
    "\n"
   ]
  },
  {
   "cell_type": "markdown",
   "metadata": {
    "colab_type": "text",
    "id": "qMKn533Illri",
    "slideshow": {
     "slide_type": "slide"
    }
   },
   "source": [
    "# Presentation of the Course"
   ]
  },
  {
   "cell_type": "markdown",
   "metadata": {
    "colab_type": "text",
    "id": "32DKGwBZmktU",
    "slideshow": {
     "slide_type": "subslide"
    }
   },
   "source": [
    "## Unit Goals\n",
    "\n",
    "> The global aim of this Unit is to give the student the ability to \n",
    "create algorithms, and to use a programming language to implement, \n",
    "test, and debug algorithms for solving simple problems. "
   ]
  },
  {
   "cell_type": "markdown",
   "metadata": {
    "colab_type": "text",
    "id": "32DKGwBZmktU",
    "slideshow": {
     "slide_type": "fragment"
    }
   },
   "source": [
    "> The student will be able to understand and use the fundamental\n",
    "programming constructs, and the Functional approach to\n",
    "programming, specifically effect-free programming where function\n",
    "calls have no side-effects and variables are immutable, and\n",
    "contrast it with the Imperative approach. \n",
    "\n",
    "$\\Rightarrow$ \n",
    "https://web.fe.up.pt/~jlopes/doku.php/teach/fpro/sheet"
   ]
  },
  {
   "cell_type": "markdown",
   "metadata": {
    "colab_type": "text",
    "id": "JqdyvF0wm9Xl",
    "slideshow": {
     "slide_type": "subslide"
    }
   },
   "source": [
    "## Bibliography\n",
    "\n",
    "\n",
    "* Peter Wentworth, Jeffrey Elkner, Allen B. Downey, and Chris Meyers, _How to Think Like a Computer Scientist — Learning with Python 3_\n",
    "[[PDF](https://media.readthedocs.org/pdf/howtothink/latest/howtothink.pdf)] \n",
    "[[HTML](http://openbookproject.net/thinkcs/python/english3e/)]"
   ]
  },
  {
   "cell_type": "markdown",
   "metadata": {
    "colab_type": "text",
    "id": "JqdyvF0wm9Xl",
    "slideshow": {
     "slide_type": "fragment"
    }
   },
   "source": [
    "and more:\n",
    "\n",
    "* David Mertz, _Functional Programming in Python_\n",
    "[[PDF](http://www.devlang.com/static/s17/cse294/functional-prog-in-python.pdf)]\n",
    "* Brad Miller and David Ranum, _Learning with Python: Interactive Edition_ \n",
    "[[HTML](https://runestone.academy/runestone/books/published/thinkcspy/index.html)]\n",
    "* Steven F. Lott, _Building Skills in Python - A Programmer's Introduction to Python_ \n",
    "[[HTML](http://interactivepython.org/runestone/static/CS152f17/index.html)]\n",
    "* Ernesto Costa, _Programação em Python – Fundamentos e Resolução de Problemas_ \n",
    "[[Library](http://catalogo.up.pt/F/-?func=find-b&local_base=FEUP&find_code=SYS&request=000585384)]"
   ]
  },
  {
   "cell_type": "markdown",
   "metadata": {
    "colab_type": "text",
    "id": "bY9nga3Cq9Oj",
    "slideshow": {
     "slide_type": "subslide"
    }
   },
   "source": [
    "## Assessment\n",
    "\n",
    "\n",
    "### Eligibility for exams\n",
    "\n",
    "- Student can not exceed the absences limit (**25% of the total number of estimated recitation classes**)\n",
    "\n",
    "- Students must obtain a minimum of 40% at least in one of the two last practical on computer evaluations: $MAX(PE04, PE05) \\geq 40\\%$\n"
   ]
  },
  {
   "cell_type": "markdown",
   "metadata": {
    "colab_type": "text",
    "id": "VaQLUxIm-se4",
    "slideshow": {
     "slide_type": "subslide"
    }
   },
   "source": [
    "### Calculation formula of final grade\n",
    "\n",
    "- LE = Lecture in-class evaluation\n",
    "- RE = Recitation and away weekly evaluation\n",
    "- PE = Practical on computer evaluation: **Individual** programming assignments\n",
    "- TE = Theory evaluation: **Individual** multiple-choice questions about programming concepts\n",
    "\n",
    "> Final classification: $10\\% LE + 10\\% RE + 50\\% PE + 30\\% TE$\n",
    "\n",
    "$\\Rightarrow$ \n",
    "[Read the full story](https://web.fe.up.pt/~jlopes/doku.php/teach/fpro/sheet#eligibility_for_exams)"
   ]
  },
  {
   "cell_type": "markdown",
   "metadata": {
    "colab_type": "text",
    "id": "tW_J7AXyvihB",
    "slideshow": {
     "slide_type": "slide"
    }
   },
   "source": [
    "# Computers, Algorithms and Programs\n"
   ]
  },
  {
   "cell_type": "markdown",
   "metadata": {
    "colab_type": "text",
    "id": "SkWLiSnxv6vD",
    "slideshow": {
     "slide_type": "subslide"
    }
   },
   "source": [
    "## Computer Scientists\n",
    "\n",
    "\n",
    "- Like **mathematicians**, computer scientists use formal languages to denote ideas (specifically computations). \n",
    "\n",
    "- Like **engineers**, they design things, assembling components into systems and evaluating tradeoffs among alternatives. \n",
    "\n",
    "- Like **scientists**, they observe the behavior of complex systems, form hypotheses, and test predictions.\n",
    "    "
   ]
  },
  {
   "cell_type": "markdown",
   "metadata": {
    "colab_type": "text",
    "id": "3MHNy0jmv-nt",
    "slideshow": {
     "slide_type": "subslide"
    }
   },
   "source": [
    "## Computational thinking\n",
    "\n",
    "\n",
    "![Computational thinking](images/01/comp-thinking.png)\n",
    "\n",
    "$\\Rightarrow$ \n",
    "[BBC, Bitsize, Introduction to computational thinking](https://www.bbc.com/bitesize/guides/zp92mp3/revision/1)"
   ]
  },
  {
   "cell_type": "markdown",
   "metadata": {
    "colab_type": "text",
    "id": "4rp6P30kvxtU",
    "slideshow": {
     "slide_type": "subslide"
    }
   },
   "source": [
    "## Problem solving\n",
    "\n",
    "\n",
    "The single most important skill for a computer scientist is **problem solving**.\n",
    "\n",
    "* Problem solving means the ability to formulate problems, think creatively about solutions, and express a solution clearly and accurately\n",
    "\n",
    "* The process of learning to program is an excellent opportunity to practice problem-solving skills.\n",
    "\n"
   ]
  },
  {
   "cell_type": "markdown",
   "metadata": {
    "colab_type": "text",
    "id": "hv3EiREtzX9z",
    "slideshow": {
     "slide_type": "subslide"
    }
   },
   "source": [
    "## Algorithm\n",
    "\n",
    "If problem solving is a central part of computer science, then the solutions that you create through the problem solving process are also important. \n",
    "In computer science, we refer to these solutions as algorithms.\n",
    "\n",
    "| A set of specific steps for solving a category of problems\n",
    "\n",
    "| **steps + flow + stop decision**"
   ]
  },
  {
   "cell_type": "markdown",
   "metadata": {
    "colab_type": "text",
    "id": "dJSvRzc_zsqw",
    "slideshow": {
     "slide_type": "subslide"
    }
   },
   "source": [
    "## The computer architecture\n",
    "\n",
    "\n",
    "![The von neumann architecture](images/01/vnarch.png)\n",
    "\n",
    "$\\Rightarrow$ \n",
    "https://www.computerscience.gcse.guru/theory/von-neumann-architecture"
   ]
  },
  {
   "cell_type": "markdown",
   "metadata": {
    "colab_type": "text",
    "id": "skAwoFxG0TBE",
    "slideshow": {
     "slide_type": "subslide"
    }
   },
   "source": [
    "## High-level languages\n",
    "\n",
    "- Low-level languages (machine languages or assembly languages),\n",
    "    are the only languages a computer executes; \n",
    "    \n",
    "- Thus, programs written in a high-level language have to be\n",
    "    translated into something *more suitable* before they can run;\n",
    "    \n",
    "- Python is an example of a high-level language; \n",
    "\n",
    "- Other high-level languages you might have heard of are C++,\n",
    "    JavaScript, PHP, Pascal, C# or Java.\n",
    "    \n",
    " "
   ]
  },
  {
   "cell_type": "markdown",
   "metadata": {
    "colab_type": "text",
    "id": "hiwgjkBw0pDm",
    "slideshow": {
     "slide_type": "subslide"
    }
   },
   "source": [
    "## Python Interpreter\n",
    "\n",
    "\n",
    "There are two ways to use it: \n",
    "\n",
    "- In *immediate mode* (or *Shell mode*), you type Python expressions into the Python\n",
    "    Interpreter window, and the interpreter immediately shows the result;\n",
    "\n",
    "- In *script mode* (or *program mode*), you can write a program in a file and use the\n",
    "    interpreter to execute the contents of the file.\n",
    "\n",
    "![Interpreter](images/01/interpreter.png)\n",
    "\n",
    "$\\Rightarrow$ \n",
    "[https://runestone.academy/runestone/books/published/thinkcspy/GeneralIntro/ThePythonProgrammingLanguage.html]\n",
    "\n",
    "\n",
    "$\\Rightarrow$ \n",
    "[Spyder3 IDE](https://www.spyder-ide.org)"
   ]
  },
  {
   "cell_type": "code",
   "execution_count": 0,
   "metadata": {
    "colab": {},
    "colab_type": "code",
    "id": "5d4gVzvr50fC",
    "slideshow": {
     "slide_type": "fragment"
    }
   },
   "outputs": [],
   "source": [
    "6 + 3"
   ]
  },
  {
   "cell_type": "markdown",
   "metadata": {
    "colab_type": "text",
    "id": "x7U4vcrm5IWq",
    "slideshow": {
     "slide_type": "subslide"
    }
   },
   "source": [
    "### Compilers\n",
    "\n",
    "\n",
    "Note that some languages are compiled (e.g. C++)\n",
    "\n",
    "![compiler](images/01/compiler)\n",
    "\n",
    "$\\Rightarrow$ \n",
    "[https://runestone.academy/runestone/books/published/thinkcspy/GeneralIntro/ThePythonProgrammingLanguage.html]\n"
   ]
  },
  {
   "cell_type": "markdown",
   "metadata": {
    "colab_type": "text",
    "id": "w2FffcLZ59Eg",
    "slideshow": {
     "slide_type": "subslide"
    }
   },
   "source": [
    "### Virtual machines\n",
    "\n",
    "\n",
    "- Many modern languages use both processes\n",
    "  * They are first compiled into a lower level language, called **byte code**, \n",
    "  * and then interpreted by a program called a virtual machine\n",
    "- Python uses both processes, but because of the way programmers interact with it, it is usually considered an interpreted language\n"
   ]
  },
  {
   "cell_type": "markdown",
   "metadata": {
    "colab_type": "text",
    "id": "b0Nbon_Z1Z6y",
    "slideshow": {
     "slide_type": "slide"
    }
   },
   "source": [
    "# The way of the program"
   ]
  },
  {
   "cell_type": "markdown",
   "metadata": {
    "colab_type": "text",
    "id": "Eo3uP8Je1eoT",
    "slideshow": {
     "slide_type": "subslide"
    }
   },
   "source": [
    "## Python\n",
    "\n",
    "- Python is everywhere and is quite popular among data scientists and startups.\n",
    "\n",
    "- Python has the added benefit of being a clean and simple syntax with massive community run library (NumPy, Pandas, SciPy, etc.).\n",
    "\n",
    "- Later, there's lots you can do with Python:\n",
    "  * Web Development\n",
    "  * Scientific and Numeric Computing\n",
    "  * Machine Learning (neural networks)\n",
    "  * Chat bots\n",
    "  * Automate the Boring Stuff\n",
    "  * Write your own games\n",
    "- FPRO's YouTube channel: \n",
    "[FPRO's past projects](https://www.youtube.com/channel/UC_RySrYRMcxfdvRwHMTwCug/videos)"
   ]
  },
  {
   "cell_type": "markdown",
   "metadata": {
    "colab_type": "text",
    "id": "5xA_YCQK8nHp",
    "slideshow": {
     "slide_type": "skip"
    }
   },
   "source": [
    "Watch one of the videos:"
   ]
  },
  {
   "cell_type": "code",
   "execution_count": 0,
   "metadata": {
    "colab": {},
    "colab_type": "code",
    "id": "Goh2MQct6HHC",
    "slideshow": {
     "slide_type": "skip"
    }
   },
   "outputs": [],
   "source": [
    "from IPython.display import YouTubeVideo\n",
    "YouTubeVideo('5Db6WDhePrM')"
   ]
  },
  {
   "cell_type": "markdown",
   "metadata": {
    "colab_type": "text",
    "id": "WE_n05hV5wG-",
    "slideshow": {
     "slide_type": "subslide"
    }
   },
   "source": [
    "Execute an example of Python code:"
   ]
  },
  {
   "cell_type": "code",
   "execution_count": 0,
   "metadata": {
    "colab": {},
    "colab_type": "code",
    "id": "62hKQ1Au4YKu",
    "slideshow": {
     "slide_type": "fragment"
    }
   },
   "outputs": [],
   "source": [
    "#!/usr/bin/env python3\n",
    "# https://github.com/fpro-feup/public/blob/master/lectures/01/basics.py\n",
    "\n",
    "import datetime\n",
    "now = datetime.datetime.now()\n",
    "\n",
    "print()\n",
    "print(\"Current date and time using str method of datetime object:\")\n",
    "print()\n",
    "print(str(now))\n",
    "\n",
    "print()\n",
    "print(\"Current date and time using instance attributes:\")\n",
    "print()\n",
    "print(\"Current year: %d\" % now.year)\n",
    "print(\"Current month: %d\" % now.month)\n",
    "print(\"Current day: %d\" % now.day)\n",
    "print(\"Current hour: %d\" % now.hour)\n",
    "print(\"Current minute: %d\" % now.minute)\n",
    "print(\"Current second: %d\" % now.second)\n",
    "print(\"Current microsecond: %d\" % now.microsecond)\n",
    "\n",
    "print()\n",
    "print(\"Current date and time using strftime:\")\n",
    "print(now.strftime(\"%Y-%m-%d %H:%M\"))"
   ]
  },
  {
   "cell_type": "markdown",
   "metadata": {
    "colab_type": "text",
    "id": "QB3dx-Jo3L80",
    "slideshow": {
     "slide_type": "subslide"
    }
   },
   "source": [
    "## 1.1 The Python programming language\n",
    "\n",
    "\n",
    "- Python is an interpreted high-level programming language for\n",
    "    general-purpose programming\n",
    "\n",
    "- Created by Guido van Rossum and first released in 1991\n",
    "\n",
    "- Python has a design philosophy that emphasizes code\n",
    "    readability, notably using significant whitespace.\n",
    "\n",
    "- It provides constructs that enable clear programming on both\n",
    "    small and large scales\n",
    "\n",
    "- Python features a dynamic type system and automatic memory\n",
    "    management\n",
    "\n",
    "- It supports multiple programming paradigms, including\n",
    "    imperative, functional, procedural and object-oriented\n",
    "- It has a large and comprehensive standard library\n"
   ]
  },
  {
   "cell_type": "markdown",
   "metadata": {
    "colab_type": "text",
    "id": "YNKNDIZm3rTg",
    "slideshow": {
     "slide_type": "subslide"
    }
   },
   "source": [
    "## 1.2 What is a program?\n",
    "\n",
    "\n",
    "- A program is a sequence of instructions that specifies how to\n",
    "    perform a computation\n",
    "\n",
    "- A few basic instructions appear in just about every language:\n",
    "\n",
    "  * **input**: Get data from the keyboard, a file, or some other\n",
    "      device (such as a sensor) \n",
    "\n",
    "  * **output**: Display data on the screen or send data to a file\n",
    "      or other device (such as a motor)\n",
    "\n",
    "  * **math**: Perform basic mathematical operations like addition\n",
    "      and multiplication \n",
    "\n",
    "  * **conditional execution**: Check for certain conditions and\n",
    "      execute the appropriate sequence of statements \n",
    "\n",
    "  * **repetition**: Perform some action repeatedly, usually with\n",
    "      some variation "
   ]
  },
  {
   "cell_type": "markdown",
   "metadata": {
    "colab_type": "text",
    "id": "jKUvASixvNfg",
    "slideshow": {
     "slide_type": "subslide"
    }
   },
   "source": [
    "## 1.3 What is debugging?\n",
    "\n",
    "\n",
    "  - Programming is a complex process, and because it is done by\n",
    "      human beings, it often leads to errors \n",
    "  - Programming errors are called **bugs** and the process of\n",
    "      tracking them down and correcting them is called **debugging**. \n",
    "  \n",
    "![ADA bug](images/01/ada-bug.png)\n",
    "\n",
    "$\\Rightarrow$ \n",
    "https://en.wikipedia.org/wiki/Software_bug\n"
   ]
  },
  {
   "cell_type": "markdown",
   "metadata": {
    "colab_type": "text",
    "id": "xNfLlqe_cYy4",
    "slideshow": {
     "slide_type": "subslide"
    }
   },
   "source": [
    "## 1.4 Syntax errors\n",
    "\n",
    "\n",
    "- Syntax refers to the structure of a program and the rules\n",
    "    about that structure \n",
    "- For example, in English, a sentence must begin with a capital\n",
    "    letter and end with a period \n",
    "- Python can only execute a program if the program is\n",
    "    syntactically correct; otherwise, the process fails and returns an\n",
    "    error message\n"
   ]
  },
  {
   "cell_type": "markdown",
   "metadata": {
    "colab_type": "text",
    "id": "rz4rzaiMcmCN",
    "slideshow": {
     "slide_type": "subslide"
    }
   },
   "source": [
    "## 1.5 Runtime errors\n",
    "\n",
    "\n",
    "- A runtime error does not appear until you run the program. \n",
    "\n",
    "- These errors are also called **exceptions** because they\n",
    "    usually indicate that something exceptional (and bad) has\n",
    "    happened. \n"
   ]
  },
  {
   "cell_type": "code",
   "execution_count": 0,
   "metadata": {
    "colab": {},
    "colab_type": "code",
    "id": "UR_WJNON7Z7M",
    "slideshow": {
     "slide_type": "fragment"
    }
   },
   "outputs": [],
   "source": [
    "50 / 0"
   ]
  },
  {
   "cell_type": "markdown",
   "metadata": {
    "colab_type": "text",
    "id": "wm4T9P103Anp",
    "slideshow": {
     "slide_type": "fragment"
    }
   },
   "source": [
    "\n",
    "$\\Rightarrow$ \n",
    "[Understanding the Python Traceback](https://realpython.com/python-traceback/)\n",
    "\n",
    "\n",
    "Using Spyder3, note the differences between *edit* and *run* environments\n"
   ]
  },
  {
   "cell_type": "markdown",
   "metadata": {
    "colab_type": "text",
    "id": "6b95q5fvcxau",
    "slideshow": {
     "slide_type": "subslide"
    }
   },
   "source": [
    "## 1.6 Semantic errors\n",
    "\n",
    "\n",
    "- With a semantic error in your program, it will run\n",
    "    successfully, but it will not do the right thing \n",
    "- The problem is that the program you wrote is not the program\n",
    "    you intended to write \n",
    "- The meaning of the program (its *semantics*) is wrong\n"
   ]
  },
  {
   "cell_type": "markdown",
   "metadata": {
    "colab_type": "text",
    "id": "b70SdT4jc_UF",
    "slideshow": {
     "slide_type": "subslide"
    }
   },
   "source": [
    "## 1.7 Experimental debugging\n",
    "\n",
    "\n",
    "- One of the most important skills you will acquire is\n",
    "    debugging. \n",
    "- Although it can be frustrating, debugging is one of the most\n",
    "    intellectually rich, challenging, and interesting parts of\n",
    "    programming. \n",
    "- In some ways, debugging is like detective work (clues, inference, ...)\n",
    "- Debugging is also like an experimental science\n"
   ]
  },
  {
   "cell_type": "markdown",
   "metadata": {
    "colab_type": "text",
    "id": "KjYzadtqd0fe",
    "slideshow": {
     "slide_type": "subslide"
    }
   },
   "source": [
    "## 1.8 Formal and natural languages\n",
    "\n",
    "\n",
    "- **Natural languages** are the languages that people\n",
    "    speak, such as English\n",
    "- **Formal languages** are languages that are designed by\n",
    "    people for specific applications\n",
    "  - For example, the math notation  is a formal language that is\n",
    "    particularly good at denoting relationships among numbers and\n",
    "    symbols\n",
    "\n",
    "> **Programming languages are formal languages\n",
    "    designed to express computations.**\n",
    "\n",
    "- Syntax rules: *tokens* & structure\n",
    "- *Parsing* a statement is needed to determine its structure\n",
    "  "
   ]
  },
  {
   "cell_type": "markdown",
   "metadata": {
    "colab_type": "text",
    "id": "LMZMGgdXgG7E",
    "slideshow": {
     "slide_type": "subslide"
    }
   },
   "source": [
    "## 1.9 A Typical First Program (with bonus)\n",
    "\n",
    "$\\Rightarrow$ \n",
    "https://github.com/fpro-feup/public/blob/master/lectures/01/hello.py\n",
    "\n",
    "```python\n",
    "``` "
   ]
  },
  {
   "cell_type": "code",
   "execution_count": 0,
   "metadata": {
    "colab": {},
    "colab_type": "code",
    "id": "UjOcCn3m35vk",
    "slideshow": {
     "slide_type": "fragment"
    }
   },
   "outputs": [],
   "source": [
    "greeting = \"Hello\"  # my first variable\n",
    "\n",
    "#\n",
    "# COMMENTING LINES #######\n",
    "#\n",
    "# to comment MANY lines at a time, highlight all of them then CTRL+1\n",
    "# do CTRL+1 again to uncomment them;\n",
    "# try it on the next two commented lines below!\n",
    "\n",
    "whoami = \"jlopes\"\n",
    "greeting = greeting + \" \" + whoami\n",
    "\n",
    "# output the greeting\n",
    "print(\"\\n\" + greeting + \"!\")\n",
    "\n",
    "#\n",
    "#### AUTOCOMPLETE #######\n",
    "#\n",
    "# Spyder can autocomplete names for you.\n",
    "# Start typing a variable name defined in your program and hit tab \n",
    "# before you finish typing;"
   ]
  },
  {
   "cell_type": "markdown",
   "metadata": {
    "colab_type": "text",
    "id": "V5xQ9hZkghFJ",
    "slideshow": {
     "slide_type": "subslide"
    }
   },
   "source": [
    "## 1.10 Comments\n",
    "\n",
    "\n",
    "- A comment in a computer program is text that is intended only\n",
    "    for the human reader\n",
    "- It is completely ignored by the interpreter\n",
    "\n",
    "\n",
    "```python\n",
    "#---------------------------------------------------\n",
    "# This demo program shows off how elegant Python is!\n",
    "# Written by John Snow, December 2015.\n",
    "#---------------------------------------------------\n",
    "\n",
    "print(\"Hello, World!\")  # Isn't this easy!\n",
    "```\n",
    "\n",
    "You may try it:"
   ]
  },
  {
   "cell_type": "code",
   "execution_count": 0,
   "metadata": {
    "colab": {},
    "colab_type": "code",
    "id": "hG2_76SY4LiJ",
    "slideshow": {
     "slide_type": "fragment"
    }
   },
   "outputs": [],
   "source": [
    "# ---------------------------------------------------\n",
    "# This demo program shows off how elegant Python is!\n",
    "# Written by John Snow, December 2015.\n",
    "# ---------------------------------------------------\n",
    "\n",
    "print(\"Hello, World!\")  # Isn't this easy!"
   ]
  },
  {
   "cell_type": "markdown",
   "metadata": {
    "slideshow": {
     "slide_type": "subslide"
    }
   },
   "source": [
    "## 1.11 The Zen of Python"
   ]
  },
  {
   "cell_type": "code",
   "execution_count": 1,
   "metadata": {
    "slideshow": {
     "slide_type": "fragment"
    }
   },
   "outputs": [
    {
     "name": "stdout",
     "output_type": "stream",
     "text": [
      "The Zen of Python, by Tim Peters\n",
      "\n",
      "Beautiful is better than ugly.\n",
      "Explicit is better than implicit.\n",
      "Simple is better than complex.\n",
      "Complex is better than complicated.\n",
      "Flat is better than nested.\n",
      "Sparse is better than dense.\n",
      "Readability counts.\n",
      "Special cases aren't special enough to break the rules.\n",
      "Although practicality beats purity.\n",
      "Errors should never pass silently.\n",
      "Unless explicitly silenced.\n",
      "In the face of ambiguity, refuse the temptation to guess.\n",
      "There should be one-- and preferably only one --obvious way to do it.\n",
      "Although that way may not be obvious at first unless you're Dutch.\n",
      "Now is better than never.\n",
      "Although never is often better than *right* now.\n",
      "If the implementation is hard to explain, it's a bad idea.\n",
      "If the implementation is easy to explain, it may be a good idea.\n",
      "Namespaces are one honking great idea -- let's do more of those!\n"
     ]
    }
   ],
   "source": [
    "import this"
   ]
  },
  {
   "cell_type": "markdown",
   "metadata": {
    "slideshow": {
     "slide_type": "subslide"
    }
   },
   "source": [
    "For the future, by the end of the course, you may do things like this:"
   ]
  },
  {
   "cell_type": "code",
   "execution_count": 5,
   "metadata": {
    "slideshow": {
     "slide_type": "fragment"
    }
   },
   "outputs": [
    {
     "name": "stdout",
     "output_type": "stream",
     "text": [
      "Chapter 2\n",
      "\n",
      "© Addison Wesley Longman 1998. \n",
      "All rights reserved\n",
      "2 - A history of HTML\n",
      "\n",
      "Included in this chapter is information on:\n",
      "\n",
      "How the World Wide Web began\n",
      "\n",
      "The events and circumstances that led to the World Wide Web's\n",
      "current popularity\n",
      "\n",
      "How HTML has grown from its conception in the early 1990s\n",
      "\n",
      "\n",
      "Summary\n",
      "HTML has had a life-span of roughly seven years. During that\n",
      "time, it has evolved from a simple language with a small number of\n",
      "tags to a complex system of mark-up, enabling authors to create\n",
      "all-singing-and-dancing Web pages complete with animated images,\n",
      "sound and all manner of gimmicks. This chapter tells you something\n",
      "about the Web's early days, HTML, and about the people, companies\n",
      "and organizations who contributed to HTML+, HTML 2, HTML 3.2\n",
      "and finally, HTML 4.\n",
      "This chapter is a short history of HTML. Its aim is to give\n",
      "readers some idea of how the HTML we use today was developed from\n",
      "the prototype written by Tim Berners-Lee in 1992. The story is\n",
      "interesting - not least because HTML has been through an\n",
      "extremely bumpy ride on the road to standardization, with software\n",
      "engineers, academics and browser companies haggling about the\n",
      "language like so many Ministers of Parliament debating in the House\n",
      "of Commons.\n",
      "\n",
      "1989: Tim Berners-Lee invents the Web with HTML as its\n",
      "publishing language\n",
      "The World Wide Web began life in the place where you would least\n",
      "expect it: at CERN, the European Laboratory for Particle Physics in\n",
      "Geneva, Switzerland. CERN is a meeting place for physicists from all\n",
      "over the world, where highly abstract and conceptual thinkers engage\n",
      "in the contemplation of complex atomic phenomena that occur on a\n",
      "minuscule scale in time and space. This is a surprising place indeed\n",
      "for the beginnings of a technology which would, eventually, deliver\n",
      "everything from tourist information, online shopping and\n",
      "advertisements, financial data, weather forecasts and much more to\n",
      "your personal computer.\n",
      "\n",
      "Tim Berners-Lee is the inventor of the Web. In 1989, Tim was\n",
      "working in a computing services section of CERN when he came up with\n",
      "the concept; at the time he had no idea that it would be implemented\n",
      "on such an enormous scale. Particle physics research often involves\n",
      "collaboration among institutes from all over the world. Tim had the\n",
      "idea of enabling researchers from remote sites in the world to\n",
      "organize and pool together information. But far from simply making\n",
      "available a large number of research documents as files that could\n",
      "be downloaded to individual computers, he suggested that you could\n",
      "actually link the text in the files themselves. \n",
      "\n",
      "In other words, there could be cross-references from one research\n",
      "paper to another. This would mean that while reading one research\n",
      "paper, you could quickly display part of another paper that holds\n",
      "directly relevant text or diagrams. Documentation of a scientific\n",
      "and mathematical nature would thus be represented as a `web' of\n",
      "information held in electronic form on computers across the world.\n",
      "This, Tim thought, could be done by using some form of hypertext,\n",
      "some way of linking documents together by using buttons on the\n",
      "screen, which you simply clicked on to jump from one paper to\n",
      "another. Before coming to CERN, Tim had already worked on document\n",
      "production and text processing, and had developed his first\n",
      "hypertext system, `Enquire', in 1980 for his own personal use.\n",
      "\n",
      "Tim's prototype Web browser on the NeXT computer came out in 1990.\n",
      "\n",
      "Through 1990: The time was ripe for Tim's invention\n",
      "The fact that the Web was invented in the early 1990s was no\n",
      "coincidence. Developments in communications technology during that\n",
      "time meant that, sooner or later, something like the Web was bound\n",
      "to happen. For a start, hypertext was coming into vogue and\n",
      "being used on computers. Also, Internet users were gaining in the\n",
      "number of users on the system: there was an increasing audience for\n",
      "distributed information. Last, but not least, the new domain name\n",
      "system had made it much easier to address a machine on the Internet.\n",
      "\n",
      "Hypertext\n",
      "lthough already established as a concept by academics as early as\n",
      "the 1940s, it was with the advent of the personal computer that\n",
      "hypertext came out of the cupboard. In the late 1980s, Bill\n",
      "Atkinson, an exceptionally gifted programmer working for Apple\n",
      "Computer Inc., came up with an application called Hypercard\n",
      "for the Macintosh. Hypercard enabled you to construct a series of\n",
      "on-screen `filing cards' that contained textual and graphical\n",
      "information. Users could navigate these by pressing on-screen\n",
      "buttons, taking themselves on a tour of the information in the\n",
      "process. \n",
      "\n",
      "Hypercard set the scene for more applications based on the filing\n",
      "card idea. Toolbook for the PC was used in the early 1990s for\n",
      "constructing hypertext training courses that had `pages' with\n",
      "buttons which could go forward or backward or jump to a new topic.\n",
      "Behind the scenes, buttons would initiate little programs called\n",
      "scripts. These scripts would control which page would be presented\n",
      "next; they could even run a small piece of animation on the screen.\n",
      "The application entitled Guide was a similar application for UNIX\n",
      "and the PC.\n",
      "\n",
      "Hypercard and its imitators caught the popular imagination. However,\n",
      "these packages still had one major limitation: hypertext jumps could\n",
      "only be made to files on the same computer. Jumps made to computers\n",
      "on the other side of the world were still out of the question.\n",
      "Nobody yet had implemented a system involving hypertext links on a\n",
      "global scale.\n",
      "\n",
      "The domain name system\n",
      "By the middle 1980s, the Internet had a new, easy-to-use system\n",
      "for naming computers. This involved using the idea of the domain\n",
      "name. A domain name comprises a series of letters separated by dots,\n",
      "for example: `www.bo.com' or `www.erb.org.uk'. These names are the\n",
      "easy-to-use alternative to the much less manageable and cumbersome\n",
      "IP address numbers.\n",
      "\n",
      "A program called Distributed Name Service (DNS) maps domain names\n",
      "onto IP addresses, keeping the IP addresses `hidden'. DNS was an\n",
      "absolute breakthrough in making the Internet accessible to those who\n",
      "were not computer nerds. As a result of its introduction, email\n",
      "addresses became simpler. Previous to DNS, email addresses had all\n",
      "sorts of hideous codes such as exclamation marks, percent signs and\n",
      "other extraneous information to specify the route to the other\n",
      "machine.\n",
      "\n",
      "Choosing the right approach to create a global hypertext\n",
      "system\n",
      "To Tim Berners-Lee, global hypertext links seemed feasible, but\n",
      "it was a matter of finding the correct approach to implementing\n",
      "them. Using an existing hypertext package might seem an attractive\n",
      "proposition, but this was impractical for a number of reasons. To\n",
      "start with, any hypertext tool to be used worldwide would have to\n",
      "take into account that many types of computers existed that were\n",
      "linked to the Internet: Personal Computers, Macintoshes, UNIX\n",
      "machines and simple terminals. Also, many desktop publishing methods\n",
      "were in vogue: SGML, Interleaf, LaTex, Microsoft\n",
      "Word, and Troff among many others. Commercial hypertext packages\n",
      "were computer-specific and could not easily take text from other\n",
      "sources; besides, they were far too complicated and involved tedious\n",
      "compiling of text into internal formats to create the final\n",
      "hypertext system.\n",
      "\n",
      "What was needed was something very simple, at least in the\n",
      "beginning. Tim demonstrated a basic, but attractive way of\n",
      "publishing text by developing some software himself, and also his\n",
      "own simple protocol - HTTP - for retrieving other documents'\n",
      "text via hypertext links. Tim's own protocol, HTTP, stands for\n",
      "HyperText Transfer Protocol. The text format for HTTP was named\n",
      "HTML, for HyperText Mark-up Language; Tim's hypertext implementation\n",
      "was demonstrated on a NeXT workstation, which provided many of the\n",
      "tools he needed to develop his first prototype. By keeping things\n",
      "very simple, Tim encouraged others to build upon his ideas and to\n",
      "design further software for displaying HTML, and for setting up\n",
      "their own HTML documents ready for access.\n",
      "\n",
      "Tim bases his HTML on an existing internationally agreed upon\n",
      "method of text mark-up\n",
      "The HTML that Tim invented was strongly based on SGML (Standard\n",
      "Generalized Mark-up Language), an internationally agreed upon method\n",
      "for marking up text into structural units such as paragraphs,\n",
      "headings, list items and so on. SGML could be implemented on any\n",
      "machine. The idea was that the language was independent of the\n",
      "formatter (the browser or other viewing software) which actually\n",
      "displayed the text on the screen. The use of pairs of tags such as\n",
      "<TITLE> and </TITLE> is taken directly\n",
      "from SGML, which does exactly the same. The SGML elements used in\n",
      "Tim's HTML included P (paragraph); H1 through\n",
      "H6 (heading level 1 through heading level 6); OL\n",
      "(ordered lists); UL (unordered lists); LI (list\n",
      "items) and various others. What SGML does not include, of course,\n",
      "are hypertext links: the idea of using the anchor element with the\n",
      "HREF attribute was purely Tim's invention, as was the now-famous\n",
      "`www.name.name' format for addressing machines on the Web.\n",
      "\n",
      "Basing HTML on SGML was a brilliant idea: other people would have\n",
      "invented their own language from scratch but this might have been\n",
      "much less reliable, as well as less acceptable to the rest of the\n",
      "Internet community. Certainly the simplicity of HTML, and the use of\n",
      "the anchor element A for creating hypertext links, was what\n",
      "made Tim's invention so useful.\n",
      "\n",
      "September 1991: Open discussion about HTML across the Internet\n",
      "begins\n",
      "Far from keeping his ideas private, Tim made every attempt to\n",
      "discuss them openly online across the Internet. Coming from a\n",
      "research background, this was quite a natural thing to do. In\n",
      "September 1991, the WWW-talk mailing list was started, a kind of\n",
      "electronic discussion group in which enthusiasts could exchange\n",
      "ideas and gossip. By 1992, a handful of other academics and computer\n",
      "researchers were showing interest. Dave Raggett from\n",
      "Hewlett-Packard's Labs in Bristol, England, was one of these early\n",
      "enthusiasts, and, following electronic discussion, Dave visited Tim\n",
      "in 1992. \n",
      "\n",
      "Here, in Tim's tiny room in the bowels of the sprawling buildings\n",
      "of CERN, the two engineers further considered how HTML might be\n",
      "taken from its current beginnings and shaped into something more\n",
      "appropriate for mass consumption. Trying to anticipate the kind of\n",
      "features that users really would like, Dave looked through\n",
      "magazines, newspapers and other printed media to get an idea of what\n",
      "sort of HTML features would be important when that same information\n",
      "was published online. Upon return to England, Dave sat down at his\n",
      "keyboard and resolutely composed HTML+, a richer version of\n",
      "the original HTML.\n",
      "\n",
      "Late 1992: NCSA is intrigued by the idea of the Web\n",
      "Meanwhile on the other side of the world, Tim's ideas had caught\n",
      "the eye of Joseph Hardin and Dave Thompson, both of the National\n",
      "Center for Supercomputer Applications, a research institute at the\n",
      "University of Illinois at Champaign-Urbana. They managed to connect\n",
      "to the computer at CERN and download copies of two free Web\n",
      "browsers. Realizing the importance of what they saw, NCSA decided to\n",
      "develop a browser of their own to be called Mosaic. Among\n",
      "the programmers in the NCSA team were Marc Andreessen - who\n",
      "later made his millions by selling Web products - and the\n",
      "brilliant programmer Eric Bina - who also became rich, courtesy\n",
      "of the Web. Eric Bina was a kind of software genius who reputedly\n",
      "could stay up three nights in succession, typing in a reverie of\n",
      "hacking at his computer.\n",
      "\n",
      "December 1992: Marc Andreessen makes a brief appearance on WWW-\n",
      "talk\n",
      "Early Web enthusiasts exchanged ideas and gossip over an\n",
      "electronic discussion group called WWW-talk. This was where Dave\n",
      "Raggett, Tim Berners-Lee, Dan Connolly and others debated how images\n",
      "(photographs, diagrams, illustrations and so on) should be inserted\n",
      "into HTML documents. Not everyone agreed upon the way that the\n",
      "relevant tag should be implemented, or even what that tag should be\n",
      "called. Suddenly, Marc Andreessen appeared on WWW-talk and, without\n",
      "further to-do, introduced an idea for the IMG tag by the\n",
      "Mosaic team. \n",
      "\n",
      "It was quite plain that the others were not altogether keen on\n",
      "the design of IMG, but Andreessen was not easily\n",
      "redirected. The IMG tag was implemented in the form\n",
      "suggested by the Mosaic team on its browser and remains to this day\n",
      "firmly implanted in HTML. This was much to the chagrin of supporters\n",
      "back in academia who invented several alternatives to IMG\n",
      "in the years to come. Now, with the coming of HTML 4, the\n",
      "OBJECT tag potentially replaces IMG, but this is,\n",
      "of course, some years later.\n",
      "\n",
      "March 1993: Lou Montulli releases the Lynx browser version\n",
      "2.0a\n",
      "Lou Montulli was one of the first people to write a text-based\n",
      "browser, Lynx. The Lynx browser was a text-based browser for\n",
      "terminals and for computers that used DOS without Windows. Lou\n",
      "Montulli was later recruited to work with Netscape Communications\n",
      "Corp., but nonetheless remained partially loyal to the idea of\n",
      "developing HTML as an open standard, proving a real asset to the\n",
      "HTML working group and the HTML Editorial Board in years to come.\n",
      "Lou's enthusiasm for good, expensive wine, and his knowledge of\n",
      "excellent restaurants in the Silicon Valley area were to make the\n",
      "standardization of HTML a much more pleasurable process.\n",
      "\n",
      "Early 1993: Dave Raggett begins to write his own browser\n",
      "While Eric Bina and the NCSA Mosaic gang were hard at it hacking\n",
      "through the night, Dave Raggett of Hewlett-Packard Labs in Bristol\n",
      "was working part-time on his Arena browser, on which he hoped to\n",
      "demonstrate all sorts of newly invented features for HTML.\n",
      "\n",
      "April 1993: The Mosaic browser is released\n",
      "In April 1993, version 1 of the Mosaic browser was released for\n",
      "Sun Microsystems Inc.'s workstation, a computer used in software\n",
      "development running the UNIX operating system. Mosaic extended the\n",
      "features specified by Tim Berners-Lee; for example, it added images,\n",
      "nested lists and fill-out forms. Academics and software engineers\n",
      "later would argue that many of these extensions were very much ad\n",
      "hoc and not properly designed.\n",
      "\n",
      "Late 1993: Large companies underestimate the importance of the\n",
      "Web\n",
      "Dave Raggett's work on the Arena browser was slow because he had\n",
      "to develop much of it single-handedly: no money was available to pay\n",
      "for a team of developers. This was because Hewlett-Packard, in\n",
      "common with many other large computer companies, was quite\n",
      "unconvinced that the Internet would be a success; indeed, the need\n",
      "for a global hypertext system simply passed them by. For many large\n",
      "corporations, the question of whether or not any money could be made\n",
      "from the Web was unclear from the outset.\n",
      "\n",
      "There was also a misconception that the Internet was mostly for\n",
      "academics. In some companies, senior management was assured that the\n",
      "telephone companies would provide the technology for global\n",
      "communications of this sort, anyway. The result was that individuals\n",
      "working in research labs in the commercial sector were unable to\n",
      "devote much time to Web development. This was a bitter\n",
      "disappointment to some researchers, who gratefully would have\n",
      "committed nearly every waking moment toward shaping what they\n",
      "envisioned would be the communications system of the future.\n",
      "\n",
      "Dave Raggett, realizing that there were not enough working hours\n",
      "left for him to succeed at what he felt was an immensely important\n",
      "task, continued writing his browser at home. There he would sit at a\n",
      "large computer that occupied a fair portion of the dining room\n",
      "table, sharing its slightly sticky surface with paper, crayons, Lego\n",
      "bricks and bits of half-eaten cookies left by the children. Dave\n",
      "also used the browser to show text flow around images, forms and\n",
      "other aspects of HTML at the First WWW Conference in Geneva in 1994.\n",
      "The Arena browser was later used for development work at CERN.\n",
      "\n",
      "May 1994: NCSA assigns commercial rights for Mosaic browser to\n",
      "Spyglass, Inc.\n",
      "In May 1994, Spyglass, Inc. signed a multi-million dollar\n",
      "licensing agreement with NCSA to distribute a commercially enhanced\n",
      "version of Mosaic. In August of that same year, the University of\n",
      "Illinois at Champaign-Urbana, the home of NCSA, assigned all future\n",
      "commercial rights for NCSA Mosaic to Spyglass.\n",
      "\n",
      "May 1994: The first World Wide Web conference is held in Geneva,\n",
      "with HTML+ on show\n",
      "Although Marc Andreessen and Jim Clark had commercial interests\n",
      "in mind, the rest of the World Wide Web community had quite a\n",
      "different attitude: they saw themselves as joint creators of a\n",
      "wonderful new technology, which certainly would benefit the world.\n",
      "They were jiggling with excitement. Even quiet and retiring\n",
      "academics became animated in discussion, and many seemed evangelical\n",
      "about their new-found god of the Web.\n",
      "\n",
      "At the first World Wide Web conference organized by CERN in May\n",
      "1994, all was merry with 380 attendees - who mostly were from\n",
      "Europe but also included many from the United States. You might have\n",
      "thought that Marc Andreessen, Jim Clark and Eric Bina surely would\n",
      "be there, but they were not. For the most part, participants were\n",
      "from the academic community, from institutions such as the World\n",
      "Meteorological Organization, the International Center for\n",
      "Theoretical Physics, the University of Iceland and so on. Later\n",
      "conferences had much more of a commercial feel, but this one was for\n",
      "technical enthusiasts who instinctively knew that this was the start\n",
      "of something big.\n",
      "\n",
      "\n",
      "At the World Wide Web conference in Geneva.\n",
      "Left to right: Joseph Hardin from NCSA, Robert Cailliau from CERN,\n",
      "Tim Berners-Lee from CERN and Dan Connolly (of HTML 2 fame) then\n",
      "working for Hal software.\n",
      "During the course of that week, awards were presented for notable\n",
      "achievements on the Web; these awards were given to Marc Andreessen,\n",
      "Lou Montulli, Eric Bina, Rob Hartill and Kevin Hughes. Dan Connolly,\n",
      "who proceeded to define HTML 2, gave a slide presentation entitled\n",
      "Interoperability: Why Everyone Wins, which explained why it\n",
      "was important that the Web operated with a proper HTML\n",
      "specification. Strange to think that at least three of the people\n",
      "who received awards at the conference were later to fly in the face\n",
      "of Dan's idea that adopting a cross-company uniform standard for\n",
      "HTML was essential.\n",
      "\n",
      "Dave Raggett had been working on some new HTML ideas, which he\n",
      "called HTML+. At the conference it was agreed that the work on\n",
      "HTML+ should be carried forward to lead to the development of\n",
      "an HTML 3 standard. Dave Raggett, together with CERN, developed\n",
      "Arena further as a proof-of-concept browser for this work. Using\n",
      "Arena, Dave Raggett, Henrik Frystyk Nielsen, Håkon Lie and\n",
      "others demonstrated text flow around a figure with captions,\n",
      "resizable tables, image backgrounds, math and other features.\n",
      "\n",
      "\n",
      "A panel discussion at the Geneva conference.\n",
      "Kevin Altis from Intel, Dave Raggett from HP Labs, Rick `Channing'\n",
      "Rodgers from the National Library of Medicine.\n",
      "The conference ended with a glorious evening cruise on board a\n",
      "paddle steamer around Lake Geneva with Wolfgang and the\n",
      "Werewolves providing Jazz accompaniment.\n",
      "\n",
      "September 1994: The Internet Engineering Task Force (IETF) sets\n",
      "up an HTML working group\n",
      "In early 1994, an Internet Engineering Task Force working group\n",
      "was set up to deal with HTML.\n",
      "\n",
      "he Internet Engineering Task Force is the international standards\n",
      "and development body of the Internet and is a large, open community\n",
      "of network designers, operators, vendors and researchers concerned\n",
      "with the evolution and smooth operation of the Internet\n",
      "architecture. The technical work of the IETF is done in working\n",
      "groups, which are organized by topic into several areas; for\n",
      "example, security, network routing, and applications. The IETF is,\n",
      "in general, part of a culture that sees the Internet as belonging to\n",
      "The People. This was even more so in the early days of the Web.\n",
      "\n",
      "he feelings of the good `ole days of early Web development are\n",
      "captured in the song, The Net Flag, which can be found\n",
      "`somewhere on the Internet'. The first verse runs as follows:\n",
      "\n",
      "\n",
      "The people's web is deepest red,\n",
      "And oft it's killed our routers dead.\n",
      "But ere the bugs grew ten days old,\n",
      "The patches fixed the broken code.\n",
      "Chorus:\n",
      "So raise the open standard high\n",
      "Within its codes we'll live or die\n",
      "Though cowards flinch and Bill Gates sneers\n",
      "We'll keep the net flag flying here.\n",
      "\n",
      "In keeping with normal IETF practices, the HTML working group was\n",
      "open to anyone in the engineering community: any interested computer\n",
      "scientist could potentially become a member and, once on its mailing\n",
      "list, could take part in email debate. The HTML working group met\n",
      "approximately three times a year, during which time they would enjoy\n",
      "a good haggle about HTML features present and future, be pleasantly\n",
      "suffused with coffee and beer, striding about plush hotel lobbies\n",
      "sporting pony tails, T-shirts and jeans without the slightest care.\n",
      "\n",
      "July 1994: HTML specification for HTML 2 is released\n",
      "During 1993 and early 1994, lots of browsers had added their own\n",
      "bits to HTML; the language was becoming ill-defined. In an effort to\n",
      "make sense of the chaos, Dan Connolly and colleagues collected all\n",
      "the HTML tags that were widely used and collated them into a draft\n",
      "document that defined the breadth of what Tim Berners-Lee called\n",
      "HTML 2. The draft was then circulated through the Internet community\n",
      "for comment. With the patience of a saint, Dan took into account\n",
      "numerous suggestions from HTML enthusiasts far and wide, ensuring\n",
      "that all would be happy with the eventual HTML 2 definition. He also\n",
      "wrote a Document Type Definition for HTML 2, a kind of\n",
      "mathematically precise description of the language.\n",
      "\n",
      "November 1994: Netscape is formed\n",
      "During 1993, Marc Andreessen apparently felt increasingly\n",
      "irritated at simply being on the Mosaic project rather than\n",
      "in charge of it. Upon graduating, he decided to leave NCSA and head\n",
      "for California where he met Jim Clark, who was already well known in\n",
      "Silicon Valley and who had money to invest. Together they formed\n",
      "Mosaic Communications, which then became Netscape Communications\n",
      "Corp. in November, 1994. What they planned to do was create and\n",
      "market their very own browser.\n",
      "\n",
      "The browser they designed was immensely successful - so much\n",
      "so in fact, that for some time to come, many users would mistakenly\n",
      "think that Netscape invented the Web. Netscape did its best to make\n",
      "sure that even those who were relying on a low-bandwidth connection\n",
      "- that is, even those who only had a modem-link from a home\n",
      "personal computer - were able to access the Web effectively.\n",
      "This was greatly to the company's credit.\n",
      "\n",
      "Following a predictable path, Netscape began inventing its own\n",
      "HTML tags as it pleased without first openly discussing them with\n",
      "the Web community. Netscape rarely made an appearance at the big\n",
      "International WWW conferences, but it seemed to be driving the HTML\n",
      "standard. It was a curious situation, and one that the inner core of\n",
      "the HTML community felt they must redress.\n",
      "\n",
      "Late 1994: The World Wide Web Consortium forms\n",
      "The World Wide Web Consortium was formed in late 1994 to fulfill\n",
      "the potential of the Web through the development of open standards.\n",
      "They had a strong interest in HTML. Just as an orchestra insists on\n",
      "the best musicians, so the consortium recruited many of the\n",
      "best-known names in the Web community. Headed up by Tim Berners-Lee,\n",
      "here are just some of the players in the band today (1997):\n",
      "\n",
      "\n",
      "Members of the World Wide Web Consortium at the MIT site.\n",
      "From left to right are Henrick Frystyk Neilsen, Anselm Baird-Smith,\n",
      "Jay Sekora, Rohit Khare, Dan Connolly, Jim Gettys, Tim Berners-Lee,\n",
      "Susan Hardy, Jim Miller, Dave Raggett, Tom Greene, Arthur Secret,\n",
      "Karen MacArthur.\n",
      "\n",
      "Dave Raggett on HTML; from the United Kingdom.\n",
      "Arnaud le Hors on HTML; from France.\n",
      "Dan Connolly on HTML; from the United States.\n",
      "\n",
      "Henrik Frystyk Nielsen on HTTP and on enabling the Web to go\n",
      "faster; from Denmark.\n",
      "\n",
      "Håkon Lie on style sheets; from Norway. He is located\n",
      "in France, working at INRIA.\n",
      "\n",
      "Bert Bos on style sheets and layout; from the Netherlands.\n",
      "\n",
      "Jim Miller on investigating technologies that could be used\n",
      "in rating the content of Web pages; from the United States.\n",
      "\n",
      "Chris Lilley on style sheets and font support; from the\n",
      "United Kingdom.\n",
      "\n",
      "The W3 Consortium is based in part at the Laboratory of Computer\n",
      "Science at Massachusetts' Institute of Technology in Cambridge,\n",
      "Massachusetts, in the United States; and in part at INRIA, the\n",
      "Institut National de Recherche en Informatique et en\n",
      "Automatique, a French governmental research institute. The W3\n",
      "Consortium is also located in part at Keio University in Japan. You\n",
      "can look at the Consortium's Web pages on `www.w3.org'.\n",
      "\n",
      "The consortium is sponsored by a number of companies that\n",
      "directly benefit from its work on standards and other technology for\n",
      "the Web. The member companies include Digital Equipment Corp.;\n",
      "Hewlett-Packard Co.; IBM Corp.; Microsoft Corp.; Netscape\n",
      "Communications Corp.; and Sun Microsystems Inc., among many others.\n",
      "\n",
      "Through 1995: HTML is extended with many new tags\n",
      "During 1995, all kinds of new HTML tags emerged. Some, like the\n",
      "BGCOLOR attribute of the BODY element and FONT\n",
      "FACE, which control stylistic aspects of a document, found\n",
      "themselves in the black books of the academic engineering community.\n",
      "`You're not supposed to be able to do things like that in HTML,'\n",
      "they would protest. It was their belief that such things as text\n",
      "color, background texture, font size and font face were definitely\n",
      "outside the scope of a language when their only intent was to\n",
      "specify how a document would be organized.\n",
      "\n",
      "March 1995: HTML 3 is published as an Internet Draft\n",
      "Dave Raggett had been working for some time on his new ideas for\n",
      "HTML, and at last he formalized them in a document published as an\n",
      "Internet Draft in March, 1995. All manner of HTML features were\n",
      "covered. A new tag for inserting images called FIG was\n",
      "introduced, which Dave hoped would supersede IMG, as well\n",
      "as a whole gambit of features for marking up math and scientific\n",
      "documents. Dave dealt with HTML tables and tabs, footnotes and\n",
      "forms. He also added support for style sheets by including a\n",
      "STYLE tag and a CLASS attribute. The latter was to\n",
      "be available on every element to encourage authors to give HTML\n",
      "elements styles, much as you do in desktop publishing.\n",
      "\n",
      "Although the HTML 3 draft was very well received, it was somewhat\n",
      "difficult to get it ratified by the IETF. The belief was that the\n",
      "draft was too large and too full of new proposals. To get consensus\n",
      "on a draft 150 pages long and about which everyone wanted to voice\n",
      "an opinion was optimistic - to say the least. In the end, Dave\n",
      "and the inner circle of the HTML community decided to call it a day.\n",
      "\n",
      "Of course, browser writers were very keen on supporting HTML 3\n",
      "- in theory. Inevitably, each browser writer chose to implement\n",
      "a different subset of HTML 3's features as they were so inclined,\n",
      "and then proudly proclaimed to support the standard. The confusion\n",
      "was mind-boggling, especially as browsers even came out with\n",
      "extensions to HTML 3, implying to the ordinary gent that\n",
      "normal HTML 3 was, of course, already supported. Was there\n",
      "an official HTML 3 standard or not? The truth was that there was\n",
      "not, but reading the computer press you might never have known the\n",
      "difference.\n",
      "\n",
      "March 1995: A furor over the HTML Tables specification\n",
      "Dave Raggett's HTML 3 draft had tackled the tabular organization\n",
      "of information in HTML. Arguments over this aspect of the language\n",
      "had continued for some time, but now it was time to really get\n",
      "going. At the 32nd meeting of the IETF in Danvers, Massachusetts,\n",
      "Dave found a group from the SGML brethren who were up in arms over\n",
      "part of the tables specification because it contradicted the CALS\n",
      "table model. Groups such as the US Navy use the CALS table model in\n",
      "complex documentation. After long negotiation, Dave managed to\n",
      "placate the CALS table delegates and altered the draft to suit their\n",
      "needs. HTML tables, which were not in HTML originally, finally\n",
      "surfaced from the HTML 3 draft to appear in HTML 3.2. They continue\n",
      "to be used extensively for the purpose of providing a layout grid\n",
      "for organizing pictures and text on the screen.\n",
      "\n",
      "August 1995: Microsoft's Internet Explorer browser comes out\n",
      "Version 1.0 of Microsoft Corp.'s Internet Explorer browser was\n",
      "announced. This browser was eventually to compete with Netscape's\n",
      "browser, and to evolve its own HTML features. To a certain extent,\n",
      "Microsoft built its business on the Web by extending HTML features.\n",
      "The ActiveX feature made Microsoft's browser unique, and Netscape\n",
      "developed a plug-in called Ncompass to handle ActiveX. This whole\n",
      "idea whereby one browser experiments with an extension to HTML only\n",
      "to find others adding support to keep even, continues to the\n",
      "present.\n",
      "\n",
      "In November 1995, Microsoft's Internet Explorer version 2.0\n",
      "arrived for its Windows NT and Windows 95 operating systems.\n",
      "\n",
      "September 1995: Netscape submits a proposal for frames\n",
      "By this time, Netscape submitted a proposal for frames, which\n",
      "involved the screen being divided into independent, scrollable\n",
      "areas. The proposal was implemented on Netscape's Navigator browser\n",
      "before anyone really had time to comment on it, but nobody was\n",
      "surprised.\n",
      "\n",
      "November 1995: The HTML working group runs into problems\n",
      "The HTML working group was an excellent idea in theory, but in\n",
      "practice things did not go quite as expected. With the immense\n",
      "popularity of the Web, the HTML working group grew larger and\n",
      "larger, and the volume of associated email soared exponentially.\n",
      "Imagine one hundred people trying to design a house. `I want the\n",
      "windows to be double-glazed,' says one. `Yes, but shouldn't we make\n",
      "them smaller, while we're at it,' questions another. Still others\n",
      "chime in: `What material do you propose for the frames - I'm not\n",
      "having them in plastic, that's for sure'; `I suggest that we don't\n",
      "have windows, as such, but include small, circular port-holes on the\n",
      "Southern elevation...' and so on.\n",
      "\n",
      "You get the idea. The HTML working group emailed each other in a\n",
      "frenzy of electronic activity. In the end, its members became so\n",
      "snowed under with email that no time was left for programming. For\n",
      "software engineers, this was a sorry state of affairs, indeed: `I\n",
      "came back after just three days away to find over 2000 messages\n",
      "waiting,' was the unhappy lament of the HTML enthusiast.\n",
      "\n",
      "Anyway, the HTML working group still was losing ground to the\n",
      "browser vendors. The group was notably slow in coming to a consensus\n",
      "on a given HTML feature, and commercial organizations were hardly\n",
      "going to sit around having tea, pleasantly conversing on the weather\n",
      "whilst waiting for the results of debates. And they did not.\n",
      "\n",
      "November 1995: Vendors unite to form a new group dedicated to\n",
      "developing an HTML standard\n",
      "In November, 1995 Dave Raggett called together representatives of\n",
      "the browser companies and suggested they meet as a small group\n",
      "dedicated to standardizing HTML. Imagine his surprise when it\n",
      "worked! Lou Montulli from Netscape, Charlie Kindel from Microsoft,\n",
      "Eric Sink from Spyglass, Wayne Gramlich from Sun Microsystems, Dave\n",
      "Raggett, Tim Berners-Lee and Dan Connolly from the W3 Consortium,\n",
      "and Jonathan Hirschman from Pathfinder convened near Chicago and\n",
      "made quick and effective decisions about HTML.\n",
      "\n",
      "November 1995: Style sheets for HTML documents begin to take\n",
      "shape\n",
      "Bert Bos, Håkon Lie, Dave Raggett, Chris Lilley and others\n",
      "from the World Wide Web Consortium and others met in Versailles near\n",
      "Paris to discuss the deployment of Cascading Style Sheets. The name\n",
      "Cascading Style Sheets implies that more than one style sheet can\n",
      "interact to produce the final look of the document. Using a special\n",
      "language, the CSS group advocated that everyone would soon be able\n",
      "to write simple styles for HTML, as one would do in Microsoft Word\n",
      "and other desktop publishing software packages. The SGML contingent,\n",
      "who preferred a LISP-like language called DSSSL - it rhymes with\n",
      "whistle - seemed out of the race when Microsoft promised to\n",
      "implement CSS on its Internet Explorer browser.\n",
      "\n",
      "November 1995: Internationalization of HTML Internet Draft\n",
      "Gavin Nicol, Gavin Adams and others presented a long paper on the\n",
      "internationalization of the Web. Their idea was to extend the\n",
      "capabilities of HTML 2, primarily by removing the restriction on the\n",
      "character set used. This would mean that HTML could be used to mark\n",
      "up languages other than those that use the Latin-1 character set to\n",
      "include a wider variety of alphabets and character sets, such as\n",
      "those that read from right to left.\n",
      "\n",
      "December 1995: The HTML working group is dismantled\n",
      "Since the IETF HTML working group was having difficulties coming\n",
      "to consensus swiftly enough to cope with such a fast-evolving\n",
      "standard, it was eventually dismantled.\n",
      "\n",
      "February 1996: The HTML ERB is formed\n",
      "Following the success of the November, 1995 meeting, the World\n",
      "Wide Web Consortium formed the HTML Editorial Review Board to help\n",
      "with the standardization process. This board consisted of\n",
      "representatives from IBM, Microsoft, Netscape, Novell, Softquad and\n",
      "the W3 Consortium, and did its business via telephone conference and\n",
      "email exchanges, meeting approximately once every three months. Its\n",
      "aim was to collaborate and agree upon a common standard for HTML,\n",
      "thus putting an end to the era when browsers each implemented a\n",
      "different subset of the language. The bad fairy of incompatibility\n",
      "was to be banished from the HTML kingdom forever, or one could hope\n",
      "so, perhaps.\n",
      "\n",
      "Dan Connolly of the W3 Consortium, also author of HTML 2, deftly\n",
      "accomplished the feat of chairing what could be quite a raucous\n",
      "meeting of the clans. Dan managed to make sure that all\n",
      "representatives had their say and listened to each other's point of\n",
      "view in an orderly manner. A strong chair was absolutely essential\n",
      "in these meetings.\n",
      "\n",
      "In preparation for an ERB meeting, specifications describing new\n",
      "aspects of HTML were made electronically available for ERB members\n",
      "to read. Then, at the meeting itself, the proponent explained some\n",
      "of the rationale behind the specification, and then dearly hoped\n",
      "that all who were present also concurred that the encapsulated ideas\n",
      "were sound. Questions such as, `should a particular feature be\n",
      "included, or should we kick it out,' would be considered. Each\n",
      "representative would air his point of view. If all went well, the\n",
      "specification might eventually see daylight and become a standard.\n",
      "At the time of writing, the next HTML standard, code-named\n",
      "Cougar, has begun its long journey in this direction.\n",
      "\n",
      "The BLINK tag was ousted in an HTML ERB meeting.\n",
      "Netscape would only abolish it if Microsoft agreed to get rid of\n",
      "MARQUEE; the deal was struck and both tags disappeared.\n",
      "Both of these extensions have always been considered slightly goofy\n",
      "by all parties. Many tough decisions were to be made about the\n",
      "OBJECT specification. Out of a chaos of several different\n",
      "tags - EMBED, APP, APPLET,\n",
      "DYNSRC and so on - all associated with embedding\n",
      "different types of information in HTML documents, a single\n",
      "OBJECT tag was chosen in April, 1996. This OBJECT\n",
      "tag becomes part of the HTML standard, but not until 1997.\n",
      "\n",
      "April 1996: The W3 Consortium working draft on Scripting comes\n",
      "out\n",
      "Based on an initial draft by Charlie Kindel, and, in turn,\n",
      "derived from Netscape's extensions for JavaScript, a W3C working\n",
      "draft on the subject of Scripting was written by Dave Raggett. In\n",
      "one form or another, this draft should eventually become part of\n",
      "standard HTML.\n",
      "\n",
      "July 1996: Microsoft seems more interested than first imagined\n",
      "in open standards\n",
      "In April 1996, Microsoft's Internet Explorer became available for\n",
      "Macintosh and Windows 3.1 systems.\n",
      "\n",
      "Thomas Reardon had been excited by the Web even at the second WWW\n",
      "conference held in Darmstadt, Germany in 1995. One year later, he\n",
      "seemed very interested in the standardization process and apparently\n",
      "wanted Microsoft to do things the right way with the W3C and with\n",
      "the IETF. Traditionally, developers are somewhat disparaging about\n",
      "Microsoft, so this was an interesting turn of events. It should be\n",
      "said that Microsoft did, of course, invent tags of their own, just\n",
      "as did Netscape. These included the remarkable MARQUEE tag\n",
      "that caused great mirth among the more academic HTML community. The\n",
      "MARQUEE tag made text dance about all over the screen -\n",
      "not exactly a feature you would expect from a serious language\n",
      "concerned with structural mark-up such as paragraphs, headings and\n",
      "lists.\n",
      "\n",
      "The worry that a massive introduction of proprietary products\n",
      "would kill the Web continued. Netscape acknowledged that vendors\n",
      "needed to push ahead of the standards process and innovate. They\n",
      "pointed out that, if users like a particular Netscape innovation,\n",
      "then the market would drive it to become a de facto standard. This\n",
      "seemed quite true at the time and, indeed, Netscape has innovated on\n",
      "top of that standard again. It's precisely this sequence of events\n",
      "that Dave Raggett and the World Wide Web Consortium were trying to\n",
      "avoid.\n",
      "\n",
      "December 1996: Work on `Cougar' is begun\n",
      "The HTML ERB became the HTML Working Group and began to work on\n",
      "`Cougar', the next version of HTML with completion late Spring,\n",
      "1997, eventually to become HTML 4. With all sorts of innovations for\n",
      "the disabled and support for international languages, as well as\n",
      "providing style sheet support, extensions to forms, scripting and\n",
      "much more, HTML 4 breaks away from the simplicity and charm of HTML\n",
      "of earlier years!\n",
      "\n",
      "\n",
      "Dave Raggett, co-editor of the HTML 4 specification, at\n",
      "work composing at the keyboard at his home in Boston.\n",
      "January 1997: HTML 3.2 is ready\n",
      "Success! In January 1997, the W3 Consortium formally endorsed\n",
      "HTML 3.2 as an HTML cross-industry specification. HTML 3.2 had been\n",
      "reviewed by all member organizations, including major browser\n",
      "vendors such as Netscape and Microsoft. This meant that the\n",
      "specification was now stable and approved of by most Web players. By\n",
      "providing a neutral forum, the W3 Consortium had successfully\n",
      "obtained agreement upon a standard version of HTML. There was great\n",
      "rejoicing, indeed. HTML 3.2 took the existing IETF HTML 2 standard\n",
      "and incorporated features from HTML+ and HTML 3. HTML 3.2\n",
      "included tables, applets, text flow around images, subscripts and\n",
      "superscripts.\n",
      " \n",
      "One might well ask why HTML 3.2 was called HTML 3.2 and not,\n",
      "let's say, HTML 3.1 or HTML 3.5. The version number is open to\n",
      "discussion just as much as is any other aspect of HTML. The version\n",
      "number is often one of the last details to be decided.\n",
      "\n",
      "Update\n",
      "Spring 1998: Cougar has now fully materialized as HTML 4.0 and is\n",
      "a W3C Proposed Recommendation. But do the major browsers implement\n",
      "HTML 4.0, you wonder? As usual in the computer industry, there is no\n",
      "simple answer. Certainly things are heading in that direction.\n",
      "Neither Netscape's or Microsofts browser completely implements style\n",
      "sheets in the way specified, which is a pity, but no doubt they will\n",
      "make amends. There are a number of pecularities in the way that\n",
      "OBJECT works but we very much hope that this will also eventually be\n",
      "implemented in a more consistent manner.\n",
      "\n",
      "© Addison Wesley Longman 1998. \n",
      "All rights reserved\n",
      "\n"
     ]
    }
   ],
   "source": [
    "from bs4 import BeautifulSoup\n",
    "import requests\n",
    "\n",
    "documentURL = 'https://www.w3.org/People/Raggett/book4/ch02.html'\n",
    "\n",
    "html = requests.get(documentURL).text\n",
    "soup = BeautifulSoup(html, 'html.parser')\n",
    "\n",
    "print(soup.get_text())"
   ]
  },
  {
   "cell_type": "markdown",
   "metadata": {
    "colab_type": "text",
    "id": "vw6FOT6f7Y6Y",
    "slideshow": {
     "slide_type": "subslide"
    }
   },
   "source": [
    "# Ticket to Leave\n"
   ]
  },
  {
   "cell_type": "markdown",
   "metadata": {
    "colab_type": "text",
    "id": "fT7FjehX8WC-",
    "slideshow": {
     "slide_type": "fragment"
    }
   },
   "source": [
    "## Moodle activity\n",
    "\n",
    "\n",
    "[LE01: The way of the program](https://moodle.up.pt/mod/quiz/view.php?id=5416)"
   ]
  },
  {
   "cell_type": "markdown",
   "metadata": {
    "colab_type": "text",
    "id": "k32iHA2KqWN9",
    "slideshow": {
     "slide_type": "skip"
    }
   },
   "source": [
    "$\\Rightarrow$ \n",
    "[Go back to the Table of Contents](00-contents.ipynb)\n",
    "\n",
    "$\\Rightarrow$ \n",
    "[Read the Preface](00-preface.ipynb)"
   ]
  }
 ],
 "metadata": {
  "celltoolbar": "Slideshow",
  "colab": {
   "collapsed_sections": [],
   "name": "01-introduction.ipynb",
   "private_outputs": true,
   "provenance": [],
   "toc_visible": true
  },
  "kernelspec": {
   "display_name": "Python 3",
   "language": "python",
   "name": "python3"
  },
  "language_info": {
   "codemirror_mode": {
    "name": "ipython",
    "version": 3
   },
   "file_extension": ".py",
   "mimetype": "text/x-python",
   "name": "python",
   "nbconvert_exporter": "python",
   "pygments_lexer": "ipython3",
   "version": "3.8.2"
  }
 },
 "nbformat": 4,
 "nbformat_minor": 1
}
